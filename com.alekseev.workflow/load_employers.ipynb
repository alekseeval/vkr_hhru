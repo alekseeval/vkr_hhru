{
 "cells": [
  {
   "cell_type": "markdown",
   "metadata": {
    "collapsed": true,
    "pycharm": {
     "name": "#%% md\n"
    }
   },
   "source": [
    "Выгрузка данных о компаниях\n",
    "---\n",
    "Из базы данных выгружается список id работодателей и по ним строится запрос к API для получения полной информации\n",
    "\n",
    "Для этого:\n",
    "- Из бд выгружаются уникальные значения employer_id\n",
    "- В несколько потоков осуществляется доступ к API"
   ]
  },
  {
   "cell_type": "code",
   "execution_count": 1,
   "outputs": [
    {
     "data": {
      "text/plain": "Выгрузка нанимателей:   0%|          | 0/5874 [00:00<?, ?it/s]",
      "application/vnd.jupyter.widget-view+json": {
       "version_major": 2,
       "version_minor": 0,
       "model_id": "e052db02544746f185af2ae345c4fee3"
      }
     },
     "metadata": {},
     "output_type": "display_data"
    },
    {
     "data": {
      "text/plain": "Выгрузка нанимателей:   0%|          | 0/5874 [00:00<?, ?it/s]",
      "application/vnd.jupyter.widget-view+json": {
       "version_major": 2,
       "version_minor": 0,
       "model_id": "8c2782560c1d4391877a80dbadfd23fc"
      }
     },
     "metadata": {},
     "output_type": "display_data"
    },
    {
     "data": {
      "text/plain": "Выгрузка нанимателей:   0%|          | 0/5874 [00:00<?, ?it/s]",
      "application/vnd.jupyter.widget-view+json": {
       "version_major": 2,
       "version_minor": 0,
       "model_id": "670791c1838048db82d2f0f55a18016d"
      }
     },
     "metadata": {},
     "output_type": "display_data"
    },
    {
     "data": {
      "text/plain": "Выгрузка нанимателей:   0%|          | 0/5874 [00:00<?, ?it/s]",
      "application/vnd.jupyter.widget-view+json": {
       "version_major": 2,
       "version_minor": 0,
       "model_id": "d239470948064eca93ce70c1d1b91f6c"
      }
     },
     "metadata": {},
     "output_type": "display_data"
    },
    {
     "data": {
      "text/plain": "Запись в БД:   0%|          | 0/5865 [00:00<?, ?it/s]",
      "application/vnd.jupyter.widget-view+json": {
       "version_major": 2,
       "version_minor": 0,
       "model_id": "89fe5469a9b24a76aa58863219416dc8"
      }
     },
     "metadata": {},
     "output_type": "display_data"
    },
    {
     "data": {
      "text/plain": "Запись в БД:   0%|          | 0/5864 [00:00<?, ?it/s]",
      "application/vnd.jupyter.widget-view+json": {
       "version_major": 2,
       "version_minor": 0,
       "model_id": "3020a6d26e22434eb8a63bc99d82e4f3"
      }
     },
     "metadata": {},
     "output_type": "display_data"
    },
    {
     "data": {
      "text/plain": "Запись в БД:   0%|          | 0/5866 [00:00<?, ?it/s]",
      "application/vnd.jupyter.widget-view+json": {
       "version_major": 2,
       "version_minor": 0,
       "model_id": "65ac2ae942af403fb0d370d2ed2d3b0d"
      }
     },
     "metadata": {},
     "output_type": "display_data"
    },
    {
     "data": {
      "text/plain": "Запись в БД:   0%|          | 0/5867 [00:00<?, ?it/s]",
      "application/vnd.jupyter.widget-view+json": {
       "version_major": 2,
       "version_minor": 0,
       "model_id": "2fe9d240ff864580baec8617c5ae27eb"
      }
     },
     "metadata": {},
     "output_type": "display_data"
    },
    {
     "name": "stdout",
     "output_type": "stream",
     "text": [
      "Wall time: 31min 54s\n"
     ]
    }
   ],
   "source": [
    "%%time\n",
    "from services.db_service import DbService\n",
    "from data_parsers.hhParser import HhParser\n",
    "import threading\n",
    "\n",
    "db_service = DbService()\n",
    "employers = db_service.execute_script('SELECT DISTINCT employer_id FROM vacancies WHERE employer_id is not NULL')\n",
    "\n",
    "parser = HhParser()\n",
    "def load_employers(empl):\n",
    "    data = parser.get_employers_info(empl)\n",
    "    db_service.save_employers(data)\n",
    "\n",
    "threads = []\n",
    "size = int(len(employers)/4)\n",
    "threads.append(threading.Thread(target=load_employers, args=(employers[:size*1],)))\n",
    "threads.append(threading.Thread(target=load_employers, args=(employers[size*1:size*2],)))\n",
    "threads.append(threading.Thread(target=load_employers, args=(employers[size*2:size*3],)))\n",
    "threads.append(threading.Thread(target=load_employers, args=(employers[size*3:],)))\n",
    "\n",
    "for thread in threads:\n",
    "    thread.start()\n",
    "\n",
    "for thread in threads:\n",
    "    thread.join()"
   ],
   "metadata": {
    "collapsed": false,
    "pycharm": {
     "name": "#%%\n"
    }
   }
  }
 ],
 "metadata": {
  "kernelspec": {
   "display_name": "Python 3",
   "language": "python",
   "name": "python3"
  },
  "language_info": {
   "codemirror_mode": {
    "name": "ipython",
    "version": 2
   },
   "file_extension": ".py",
   "mimetype": "text/x-python",
   "name": "python",
   "nbconvert_exporter": "python",
   "pygments_lexer": "ipython2",
   "version": "2.7.6"
  }
 },
 "nbformat": 4,
 "nbformat_minor": 0
}