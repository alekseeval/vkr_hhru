{
 "cells": [
  {
   "cell_type": "markdown",
   "source": [
    "Инициализация БД для записи данных\n",
    "---"
   ],
   "metadata": {
    "collapsed": false
   }
  },
  {
   "cell_type": "code",
   "source": [
    "%%time\n",
    "%run -i ..//data/bd_init_script"
   ],
   "metadata": {
    "collapsed": false,
    "pycharm": {
     "name": "#%%\n"
    }
   },
   "execution_count": 1,
   "outputs": [
    {
     "name": "stdout",
     "output_type": "stream",
     "text": [
      "----> Script was successfully executed\n",
      "Wall time: 234 ms\n"
     ]
    }
   ]
  },
  {
   "cell_type": "code",
   "execution_count": 1,
   "outputs": [
    {
     "name": "stdout",
     "output_type": "stream",
     "text": [
      "----> Into table schedule was inserted 5 values\n",
      "----> Into table experience was inserted 4 values\n",
      "----> Into table currency was inserted 10 values\n",
      "----> Into table employment was inserted 5 values\n",
      "----> Into table specialization was inserted 621 values\n"
     ]
    }
   ],
   "source": [
    "%run -i ..//data/dicts_init_script"
   ],
   "metadata": {
    "collapsed": false,
    "pycharm": {
     "name": "#%%\n"
    }
   }
  },
  {
   "cell_type": "markdown",
   "source": [
    "---\n",
    "Обход ограничения максимальной глубины запроса\n",
    "---\n",
    "Для обхода максимальной глубины запроса к API, получаем промежутки времени, в которые кол-во опубликованых вакансий не\n",
    "превышает 2000. Далее будут получены данные по этим промежуткам.\n",
    "\n",
    "(Данные только о вакансиях в сфере IT)"
   ],
   "metadata": {
    "collapsed": false
   }
  },
  {
   "cell_type": "code",
   "execution_count": null,
   "outputs": [],
   "source": [
    "%%time\n",
    "from data_parsers.hhParser import HhParser\n",
    "from datetime import datetime, timedelta\n",
    "\n",
    "parser = HhParser()\n",
    "cur_date = {\n",
    "    'from': (datetime.now() - timedelta(days=1)),\n",
    "    'to': datetime.now()\n",
    "}\n",
    "req_param = {\n",
    "        'specialization':1,\n",
    "        'per_page':0,\n",
    "        'date_from':cur_date['from'].strftime('%Y-%m-%dT%H:%M:%S'),\n",
    "        'date_to':cur_date['to'].strftime('%Y-%m-%dT%H:%M:%S')\n",
    "    }\n",
    "data = parser.execute_request(req_param=req_param)\n",
    "dates = []\n",
    "total_vacancies_number = 0\n",
    "while data['found'] != 0:\n",
    "    while data['found'] > 2000:\n",
    "        cur_date['from'] += timedelta(hours=1)\n",
    "        req_param['date_from'] = cur_date['from'].strftime('%Y-%m-%dT%H:%M:%S')\n",
    "        data = parser.execute_request(req_param=req_param)\n",
    "\n",
    "    total_vacancies_number += data['found']\n",
    "    dates.append([cur_date['from'].strftime('%Y-%m-%dT%H:%M:%S'), cur_date['to'].strftime('%Y-%m-%dT%H:%M:%S')])\n",
    "\n",
    "    cur_date['to'] = cur_date['from']\n",
    "    cur_date['from'] -= timedelta(days=1)\n",
    "    req_param['date_from'] = cur_date['from'].strftime('%Y-%m-%dT%H:%M:%S')\n",
    "    req_param['date_to'] = cur_date['to'].strftime('%Y-%m-%dT%H:%M:%S')\n",
    "    data = parser.execute_request(req_param=req_param)\n",
    "print(f'За последний месяц имеется {total_vacancies_number} вакансий')"
   ],
   "metadata": {
    "collapsed": false,
    "pycharm": {
     "name": "#%%\n",
     "is_executing": true
    }
   }
  },
  {
   "cell_type": "markdown",
   "source": [
    "---\n",
    "Выгрузка всех вакансий\n",
    "---\n",
    "Получение данных по вакансиям за ранее полученные промежутки времени"
   ],
   "metadata": {
    "collapsed": false,
    "pycharm": {
     "name": "#%% md\n"
    }
   }
  },
  {
   "cell_type": "code",
   "execution_count": 3,
   "outputs": [
    {
     "data": {
      "text/plain": "0it [00:00, ?it/s]",
      "application/vnd.jupyter.widget-view+json": {
       "version_major": 2,
       "version_minor": 0,
       "model_id": "b4f651ede2434a1da3587f295210f184"
      }
     },
     "metadata": {},
     "output_type": "display_data"
    },
    {
     "name": "stdout",
     "output_type": "stream",
     "text": [
      "Wall time: 36 ms\n"
     ]
    }
   ],
   "source": [
    "%%time\n",
    "from services.db_service import DbService\n",
    "from tqdm.notebook import tqdm\n",
    "import threading\n",
    "\n",
    "def load_vacancies(d_range):\n",
    "    params = {\n",
    "        'page': 0,\n",
    "        'per_page': 100,\n",
    "        'date_from': d_range[0],\n",
    "        'date_to': d_range[1],\n",
    "        'specialization':1\n",
    "    }\n",
    "    vac = parser.get_vacancies(req_params=params)\n",
    "    db_service.save_vacancies(vac)\n",
    "\n",
    "db_service = DbService()\n",
    "THREADS_NUMBER = 6\n",
    "for i in tqdm(range(0, len(dates), THREADS_NUMBER)):\n",
    "\n",
    "    threads = []\n",
    "    upper_i = i + THREADS_NUMBER\n",
    "    if upper_i > len(dates):\n",
    "        upper_i = len(dates)\n",
    "\n",
    "    for j in range(i, upper_i):\n",
    "        threads.append(threading.Thread(target=load_vacancies, args=(dates[j],)))\n",
    "\n",
    "    for t in threads:\n",
    "        t.start()\n",
    "\n",
    "    for t in threads:\n",
    "        t.join()"
   ],
   "metadata": {
    "collapsed": false,
    "pycharm": {
     "name": "#%%\n"
    }
   }
  }
 ],
 "metadata": {
  "kernelspec": {
   "display_name": "Python 3",
   "language": "python",
   "name": "python3"
  },
  "language_info": {
   "codemirror_mode": {
    "name": "ipython",
    "version": 2
   },
   "file_extension": ".py",
   "mimetype": "text/x-python",
   "name": "python",
   "nbconvert_exporter": "python",
   "pygments_lexer": "ipython2",
   "version": "2.7.6"
  }
 },
 "nbformat": 4,
 "nbformat_minor": 0
}